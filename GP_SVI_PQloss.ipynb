{
  "nbformat": 4,
  "nbformat_minor": 0,
  "metadata": {
    "colab": {
      "provenance": [],
      "authorship_tag": "ABX9TyOYISH/kX4v40Sa02IzcTGW",
      "include_colab_link": true
    },
    "kernelspec": {
      "name": "python3",
      "display_name": "Python 3"
    },
    "language_info": {
      "name": "python"
    }
  },
  "cells": [
    {
      "cell_type": "markdown",
      "metadata": {
        "id": "view-in-github",
        "colab_type": "text"
      },
      "source": [
        "<a href=\"https://colab.research.google.com/github/YunshanDYS/SDS383D_HW_YD/blob/main/GP_SVI_PQloss.ipynb\" target=\"_parent\"><img src=\"https://colab.research.google.com/assets/colab-badge.svg\" alt=\"Open In Colab\"/></a>"
      ]
    },
    {
      "cell_type": "code",
      "execution_count": null,
      "metadata": {
        "colab": {
          "base_uri": "https://localhost:8080/"
        },
        "id": "vDTyrBKlqfMa",
        "outputId": "099dc848-e7db-46b8-b9bc-67f0a73e1fc0"
      },
      "outputs": [
        {
          "output_type": "stream",
          "name": "stdout",
          "text": [
            "Looking in indexes: https://pypi.org/simple, https://us-python.pkg.dev/colab-wheels/public/simple/\n",
            "Collecting gpytorch\n",
            "  Downloading gpytorch-1.8.1-py2.py3-none-any.whl (361 kB)\n",
            "\u001b[K     |████████████████████████████████| 361 kB 15.9 MB/s \n",
            "\u001b[?25hRequirement already satisfied: torch>=1.10 in /usr/local/lib/python3.7/dist-packages (from gpytorch) (1.12.1+cu113)\n",
            "Requirement already satisfied: numpy in /usr/local/lib/python3.7/dist-packages (from gpytorch) (1.21.6)\n",
            "Requirement already satisfied: scipy in /usr/local/lib/python3.7/dist-packages (from gpytorch) (1.7.3)\n",
            "Requirement already satisfied: scikit-learn in /usr/local/lib/python3.7/dist-packages (from gpytorch) (1.0.2)\n",
            "Requirement already satisfied: typing-extensions in /usr/local/lib/python3.7/dist-packages (from torch>=1.10->gpytorch) (4.1.1)\n",
            "Requirement already satisfied: joblib>=0.11 in /usr/local/lib/python3.7/dist-packages (from scikit-learn->gpytorch) (1.2.0)\n",
            "Requirement already satisfied: threadpoolctl>=2.0.0 in /usr/local/lib/python3.7/dist-packages (from scikit-learn->gpytorch) (3.1.0)\n",
            "Installing collected packages: gpytorch\n",
            "Successfully installed gpytorch-1.8.1\n"
          ]
        }
      ],
      "source": [
        "!pip install gpytorch"
      ]
    },
    {
      "cell_type": "code",
      "source": [
        "import tqdm\n",
        "import math\n",
        "import torch\n",
        "import gpytorch\n",
        "import numpy as np\n",
        "from matplotlib import pyplot as plt\n",
        "from math import floor"
      ],
      "metadata": {
        "id": "OusPaOR_rfBp"
      },
      "execution_count": null,
      "outputs": []
    },
    {
      "cell_type": "code",
      "source": [
        "# Data \n",
        "n = 1000\n",
        "X1 = torch.normal(0, 1, size=(int(n/2),)) \n",
        "X2 = torch.normal(10, 1, size=(int(n/2),)) \n",
        "X = torch.cat((X1, X2))"
      ],
      "metadata": {
        "id": "fiEPWmsQrj-o"
      },
      "execution_count": null,
      "outputs": []
    },
    {
      "cell_type": "code",
      "source": [
        "n_hist, bins, patches = plt.hist(x=X, bins=50)\n",
        "plt.grid(axis='y')"
      ],
      "metadata": {
        "colab": {
          "base_uri": "https://localhost:8080/",
          "height": 265
        },
        "id": "oJhehWySs-K4",
        "outputId": "64a36e67-301b-4f14-ebe2-c422a140cfbf"
      },
      "execution_count": null,
      "outputs": [
        {
          "output_type": "display_data",
          "data": {
            "text/plain": [
              "<Figure size 432x288 with 1 Axes>"
            ],
            "image/png": "[encoded data removed]"
          },
          "metadata": {
            "needs_background": "light"
          }
        }
      ]
    },
    {
      "cell_type": "code",
      "source": [
        "from gpytorch.module import Module\n",
        "\n",
        "class LogLoss(Module):\n",
        "    def __init__(self, model):\n",
        "        super(LogLoss, self).__init__()\n",
        "        self.model = model\n",
        "\n",
        "    def forward(self, output, **kwargs):\n",
        "        raise NotImplementedError"
      ],
      "metadata": {
        "id": "GG6EPmq0_-LQ"
      },
      "execution_count": null,
      "outputs": []
    },
    {
      "cell_type": "code",
      "source": [
        "from abc import ABC, abstractmethod\n",
        "\n",
        "import torch\n",
        "\n",
        "\n",
        "class _Approximate_loss(LogLoss, ABC):\n",
        "    # changes here\n",
        "    def __init__(self, model, num_data, beta=1.0, combine_terms=True):\n",
        "        super().__init__(model)\n",
        "        self.combine_terms = combine_terms\n",
        "        self.num_data = num_data\n",
        "        self.beta = beta\n",
        "\n",
        "    @abstractmethod\n",
        "    def _log_likelihood_term(self, approximate_dist_f, **kwargs):\n",
        "        raise NotImplementedError\n",
        "\n",
        "    # changes here, no target\n",
        "    def forward(self, approximate_dist_f, **kwargs):\n",
        "        # Get likelihood term and KL term\n",
        "        num_batch = approximate_dist_f.event_shape[0]\n",
        "        log_likelihood = self._log_likelihood_term(approximate_dist_f, **kwargs).div(num_batch)\n",
        "        kl_divergence = self.model.variational_strategy.kl_divergence().div(self.num_data / self.beta)\n",
        "\n",
        "        # Add any additional registered loss terms\n",
        "        added_loss = torch.zeros_like(log_likelihood)\n",
        "        had_added_losses = False\n",
        "        for added_loss_term in self.model.added_loss_terms():\n",
        "            added_loss.add_(added_loss_term.loss())\n",
        "            had_added_losses = True\n",
        "\n",
        "        # Log prior term\n",
        "        log_prior = torch.zeros_like(log_likelihood)\n",
        "        for name, module, prior, closure, _ in self.named_priors():\n",
        "            log_prior.add_(prior.log_prob(closure(module)).sum().div(self.num_data))\n",
        "\n",
        "        if self.combine_terms:\n",
        "            return log_likelihood - kl_divergence + log_prior - added_loss\n",
        "        else:\n",
        "            if had_added_losses:\n",
        "                return log_likelihood, kl_divergence, log_prior, added_loss\n",
        "            else:\n",
        "                return log_likelihood, kl_divergence, log_prior"
      ],
      "metadata": {
        "id": "BcEnncFhAUv8"
      },
      "execution_count": null,
      "outputs": []
    },
    {
      "cell_type": "code",
      "source": [
        "# Fix mu and alpha for now\n",
        "mu = torch.Tensor([1, -1])\n",
        "alpha = 0.2"
      ],
      "metadata": {
        "id": "fzFlOoR-AoFi"
      },
      "execution_count": null,
      "outputs": []
    },
    {
      "cell_type": "code",
      "source": [
        "# q function\n",
        "def q_fun(h_samples, mu, alpha):\n",
        "  q = 1.0 / ((1.0 + (h_samples.unsqueeze(2) - mu)**2 / alpha) + 1e-8)\n",
        "  q = q**(alpha+1.0)/2.0\n",
        "  q = q / torch.sum(q, dim=2, keepdim=True)\n",
        "  return q"
      ],
      "metadata": {
        "id": "ScisKkBQENf9"
      },
      "execution_count": null,
      "outputs": []
    },
    {
      "cell_type": "code",
      "source": [
        "# p function\n",
        "def p_fun(q):\n",
        "    p = q**2 / torch.sum(q, dim=1)\n",
        "    p = p / torch.sum(p, dim=2, keepdim=True)\n",
        "    return p"
      ],
      "metadata": {
        "id": "_qT3TwpQEgem"
      },
      "execution_count": null,
      "outputs": []
    },
    {
      "cell_type": "code",
      "source": [
        "def loss_function(p, q):\n",
        "    loss = torch.mean(torch.sum(p*torch.log(p/(q+1e-6)), dim=2), dim = 1) \n",
        "    return loss"
      ],
      "metadata": {
        "id": "kKTiO1N9HPhq"
      },
      "execution_count": null,
      "outputs": []
    },
    {
      "cell_type": "code",
      "source": [],
      "metadata": {
        "id": "X7k_XcmZgCO0"
      },
      "execution_count": null,
      "outputs": []
    },
    {
      "cell_type": "code",
      "source": [
        "# check the loss function\n",
        "h1 = torch.from_numpy(np.repeat(1,(int(n/2),)))\n",
        "h2 = torch.from_numpy(np.repeat(-1,(int(n/2),)))\n",
        "h_test = torch.cat((h1, h2)).reshape(1,n)"
      ],
      "metadata": {
        "id": "TYYsc3_gMJo4"
      },
      "execution_count": null,
      "outputs": []
    },
    {
      "cell_type": "code",
      "source": [
        "q = q_fun(h_test, mu, alpha)\n",
        "print(q)\n",
        "p = p_fun(q)\n",
        "print(p)\n",
        "loss = loss_function(p,q)\n",
        "print(loss)"
      ],
      "metadata": {
        "colab": {
          "base_uri": "https://localhost:8080/"
        },
        "id": "-bgL6Pk3NI8s",
        "outputId": "923b8a4c-ca4a-4961-ddda-a2a65f886120"
      },
      "execution_count": null,
      "outputs": [
        {
          "output_type": "stream",
          "name": "stdout",
          "text": [
            "tensor([[[0.9748, 0.0252],\n",
            "         [0.9748, 0.0252],\n",
            "         [0.9748, 0.0252],\n",
            "         ...,\n",
            "         [0.0252, 0.9748],\n",
            "         [0.0252, 0.9748],\n",
            "         [0.0252, 0.9748]]])\n",
            "tensor([[[9.9933e-01, 6.7047e-04],\n",
            "         [9.9933e-01, 6.7047e-04],\n",
            "         [9.9933e-01, 6.7047e-04],\n",
            "         ...,\n",
            "         [6.7047e-04, 9.9933e-01],\n",
            "         [6.7047e-04, 9.9933e-01],\n",
            "         [6.7047e-04, 9.9933e-01]]])\n",
            "tensor([0.0225])\n"
          ]
        }
      ]
    },
    {
      "cell_type": "code",
      "source": [
        "q = q_fun(h_test*0.1, mu, alpha)\n",
        "print(q)\n",
        "p = p_fun(q)\n",
        "print(p)\n",
        "loss = loss_function(p,q)\n",
        "print(loss)"
      ],
      "metadata": {
        "colab": {
          "base_uri": "https://localhost:8080/"
        },
        "id": "BPl6Gwz2T723",
        "outputId": "7c14f007-59fd-4041-908e-bcce456dbf41"
      },
      "execution_count": null,
      "outputs": [
        {
          "output_type": "stream",
          "name": "stdout",
          "text": [
            "tensor([[[0.5988, 0.4012],\n",
            "         [0.5988, 0.4012],\n",
            "         [0.5988, 0.4012],\n",
            "         ...,\n",
            "         [0.4012, 0.5988],\n",
            "         [0.4012, 0.5988],\n",
            "         [0.4012, 0.5988]]])\n",
            "tensor([[[0.6901, 0.3099],\n",
            "         [0.6901, 0.3099],\n",
            "         [0.6901, 0.3099],\n",
            "         ...,\n",
            "         [0.3099, 0.6901],\n",
            "         [0.3099, 0.6901],\n",
            "         [0.3099, 0.6901]]])\n",
            "tensor([0.0179])\n"
          ]
        }
      ]
    },
    {
      "cell_type": "code",
      "source": [
        "rho = np.arange(0, 3, 0.05)\n",
        "loss = []\n",
        "for rho_temp in rho:\n",
        "  h_temp = h_test*rho_temp\n",
        "  q = q_fun(h_temp, mu, alpha)\n",
        "  p = p_fun(q)\n",
        "  loss.append(loss_function(p,q)[0].item())"
      ],
      "metadata": {
        "id": "Bmy6aa52OVmN"
      },
      "execution_count": null,
      "outputs": []
    },
    {
      "cell_type": "code",
      "source": [
        "plt.plot(rho, loss, \".\")"
      ],
      "metadata": {
        "colab": {
          "base_uri": "https://localhost:8080/",
          "height": 283
        },
        "id": "TDOI59arULSQ",
        "outputId": "efb91fbe-d4b4-483a-fec8-9cbf18304809"
      },
      "execution_count": null,
      "outputs": [
        {
          "output_type": "execute_result",
          "data": {
            "text/plain": [
              "[<matplotlib.lines.Line2D at 0x7f123c9967d0>]"
            ]
          },
          "metadata": {},
          "execution_count": 15
        },
        {
          "output_type": "display_data",
          "data": {
            "text/plain": [
              "<Figure size 432x288 with 1 Axes>"
            ],
            "image/png": "[encoded data removed]"
          },
          "metadata": {
            "needs_background": "light"
          }
        }
      ]
    },
    {
      "cell_type": "code",
      "source": [
        "q_flat = torch.from_numpy(np.repeat(0.5,(int(n*2),))).reshape(1,n,2)"
      ],
      "metadata": {
        "id": "gKykeS04TmCW"
      },
      "execution_count": 23,
      "outputs": []
    },
    {
      "cell_type": "code",
      "source": [
        "def loss_function2(p, q):\n",
        "    loss = torch.mean(torch.sum(p*torch.log(p/(q+1e-6)), dim=2), dim = 1) - torch.mean(torch.sum(p*torch.log(q/(q_flat+1e-6)), dim=2), dim = 1) + 5\n",
        "    return loss"
      ],
      "metadata": {
        "id": "IUHDjFjITYNo"
      },
      "execution_count": 24,
      "outputs": []
    },
    {
      "cell_type": "code",
      "source": [
        "rho = np.arange(0, 3, 0.05)\n",
        "loss2 = []\n",
        "for rho_temp in rho:\n",
        "  h_temp = h_test*rho_temp\n",
        "  q = q_fun(h_temp, mu, alpha)\n",
        "  p = p_fun(q)\n",
        "  loss2.append(loss_function2(p,q)[0].item())"
      ],
      "metadata": {
        "id": "-uFq45tVT6AH"
      },
      "execution_count": 25,
      "outputs": []
    },
    {
      "cell_type": "code",
      "source": [
        "plt.plot(rho, loss2, \".\")"
      ],
      "metadata": {
        "colab": {
          "base_uri": "https://localhost:8080/",
          "height": 282
        },
        "id": "pPphqquqUDcN",
        "outputId": "1d04c305-c00a-49cb-9b7a-03aa7dfdf8b2"
      },
      "execution_count": 27,
      "outputs": [
        {
          "output_type": "execute_result",
          "data": {
            "text/plain": [
              "[<matplotlib.lines.Line2D at 0x7f23c6aa9890>]"
            ]
          },
          "metadata": {},
          "execution_count": 27
        },
        {
          "output_type": "display_data",
          "data": {
            "text/plain": [
              "<Figure size 432x288 with 1 Axes>"
            ],
            "image/png": "[encoded data removed]"
          },
          "metadata": {
            "needs_background": "light"
          }
        }
      ]
    },
    {
      "cell_type": "code",
      "source": [
        "# define the loss function\n",
        "def expected_log_loss(function_dist, *args, sample_shape=None, **kwargs):\n",
        "  sample_shape = torch.Size([1000])\n",
        "  function_samples = function_dist.rsample(sample_shape)\n",
        "  q = q_fun(function_samples, mu, alpha)\n",
        "  p = p_fun(q)\n",
        "  loss_samples = loss_function(p, q)\n",
        "  log_loss_samples = torch.log(loss_samples)\n",
        "  return - log_loss_samples.mean(dim=0) "
      ],
      "metadata": {
        "id": "g6OL-qFqA5El"
      },
      "execution_count": null,
      "outputs": []
    },
    {
      "cell_type": "code",
      "source": [
        "class VariationalELBO_loss(_Approximate_loss):\n",
        "    def _log_likelihood_term(self, variational_dist_f, **kwargs):\n",
        "        return expected_log_loss(variational_dist_f, **kwargs).sum(-1)\n",
        "\n",
        "    def forward(self, variational_dist_f, **kwargs):\n",
        "        return super().forward(variational_dist_f, **kwargs)"
      ],
      "metadata": {
        "id": "JEj5Hk-qMPUT"
      },
      "execution_count": null,
      "outputs": []
    },
    {
      "cell_type": "code",
      "source": [
        "from gpytorch.models import ApproximateGP\n",
        "from gpytorch.variational import CholeskyVariationalDistribution\n",
        "from gpytorch.variational import VariationalStrategy\n",
        "\n",
        "class GPModel(ApproximateGP):\n",
        "    def __init__(self, inducing_points):\n",
        "        variational_distribution = CholeskyVariationalDistribution(inducing_points.size(0))\n",
        "        variational_strategy = VariationalStrategy(self, inducing_points, variational_distribution, learn_inducing_locations=False)\n",
        "        super(GPModel, self).__init__(variational_strategy)\n",
        "        self.mean_module = gpytorch.means.ConstantMean()\n",
        "        self.covar_module = gpytorch.kernels.ScaleKernel(gpytorch.kernels.RBFKernel())\n",
        "\n",
        "        # lengthscale_prior = gpytorch.priors.GammaPrior(100.0, 1.0)\n",
        "        # outputscale_prior = gpytorch.priors.GammaPrior(50.0, 2)\n",
        "\n",
        "        # self.covar_module = gpytorch.kernels.ScaleKernel(\n",
        "        #     gpytorch.kernels.RBFKernel(\n",
        "        #         lengthscale_prior=lengthscale_prior,\n",
        "        #     ),\n",
        "        #     outputscale_prior=outputscale_prior\n",
        "        # )\n",
        "\n",
        "        # # Initialize lengthscale and outputscale to mean of priors\n",
        "        # self.covar_module.base_kernel.lengthscale = lengthscale_prior.mean\n",
        "        # self.covar_module.outputscale = outputscale_prior.mean\n",
        "\n",
        "\n",
        "    def forward(self, x):\n",
        "        mean_x = self.mean_module(x)\n",
        "        covar_x = self.covar_module(x)\n",
        "        return gpytorch.distributions.MultivariateNormal(mean_x, covar_x)\n",
        "\n",
        "inducing_points = X #[torch.randint(0, n, (int(n/4),))]\n",
        "model = GPModel(inducing_points=inducing_points)"
      ],
      "metadata": {
        "id": "klx_vur2NTC6"
      },
      "execution_count": null,
      "outputs": []
    },
    {
      "cell_type": "code",
      "source": [
        "num_epochs = 10\n",
        "\n",
        "model.train()\n",
        "\n",
        "optimizer = torch.optim.Adam(model.parameters(), lr=0.05)\n",
        "\n",
        "# Our loss object. We're using the VariationalELBO\n",
        "mll = VariationalELBO_loss(model, num_data=X.size(0))\n",
        "\n",
        "tol = 1e-7\n",
        "for i in range(num_epochs):\n",
        "  optimizer.zero_grad()\n",
        "  output = model(X)\n",
        "  with torch.no_grad():\n",
        "    if i > 0:\n",
        "      loss_old = loss\n",
        "  loss = mll(output)\n",
        "  loss.backward()\n",
        "  optimizer.step()\n",
        "\n",
        "  if i % 20 == 0:\n",
        "    print('In epoch {}, loss: {:.4f}'.format(i, loss))\n",
        "  \n",
        "  if i > 0:\n",
        "    if abs((loss_old - loss)/loss_old) < tol:\n",
        "      print('Converge!')\n",
        "      break"
      ],
      "metadata": {
        "colab": {
          "base_uri": "https://localhost:8080/"
        },
        "id": "pKX96n2_rj0m",
        "outputId": "f418f9b9-f1cc-4829-ecf8-5a2e60de29b4"
      },
      "execution_count": null,
      "outputs": [
        {
          "output_type": "stream",
          "name": "stderr",
          "text": [
            "/usr/local/lib/python3.7/dist-packages/gpytorch/lazy/triangular_lazy_tensor.py:136: UserWarning: torch.triangular_solve is deprecated in favor of torch.linalg.solve_triangularand will be removed in a future PyTorch release.\n",
            "torch.linalg.solve_triangular has its arguments reversed and does not return a copy of one of the inputs.\n",
            "X = torch.triangular_solve(B, A).solution\n",
            "should be replaced with\n",
            "X = torch.linalg.solve_triangular(A, B). (Triggered internally at  ../aten/src/ATen/native/BatchLinearAlgebra.cpp:2183.)\n",
            "  res = torch.triangular_solve(right_tensor, self.evaluate(), upper=self.upper).solution\n"
          ]
        },
        {
          "output_type": "stream",
          "name": "stdout",
          "text": [
            "In epoch 0, loss: 0.0029\n"
          ]
        }
      ]
    },
    {
      "cell_type": "code",
      "source": [
        "# import pdb\n",
        "\n",
        "num_epochs = 100\n",
        "\n",
        "model.train()\n",
        "\n",
        "optimizer = torch.optim.Adam(model.parameters(), lr=0.05)\n",
        "\n",
        "# Our loss object. We're using the VariationalELBO\n",
        "mll = VariationalELBO_loss(model, num_data=X.size(0))\n",
        "\n",
        "tol = 1e-7\n",
        "for i in range(num_epochs):\n",
        "  optimizer.zero_grad()\n",
        "  output = model(X)\n",
        "  with torch.no_grad():\n",
        "    if i > 0:\n",
        "      loss_old = loss\n",
        "  loss = -mll(output)\n",
        "  loss.backward()\n",
        "\n",
        "  # pdb.set_trace()\n",
        "  optimizer.step()\n",
        "\n",
        "  if i % 20 == 0:\n",
        "    print('In epoch {}, loss: {:.4f}'.format(i, loss))\n",
        "  \n",
        "  if i > 0:\n",
        "    if abs((loss_old - loss)/loss_old) < tol:\n",
        "      print('Converge!')\n",
        "      break"
      ],
      "metadata": {
        "colab": {
          "base_uri": "https://localhost:8080/"
        },
        "id": "9o4mfM87nn4O",
        "outputId": "a3de60a8-1d10-4b03-d240-257830b87afa"
      },
      "execution_count": null,
      "outputs": [
        {
          "output_type": "stream",
          "name": "stdout",
          "text": [
            "In epoch 0, loss: 36.4260\n",
            "In epoch 20, loss: 1.7699\n",
            "In epoch 40, loss: 0.0312\n",
            "In epoch 60, loss: 0.0228\n",
            "In epoch 80, loss: -0.0079\n"
          ]
        }
      ]
    },
    {
      "cell_type": "code",
      "source": [
        "\n",
        "X_test = torch.Tensor(np.arange(-5, 15, 0.1))\n",
        "model.eval()\n",
        "with torch.no_grad():\n",
        "    preds = model(X_test)\n",
        "    means = preds.mean\n",
        "    CI1, CI2 = preds.confidence_region()"
      ],
      "metadata": {
        "id": "ZTPpoIocTMNi"
      },
      "execution_count": null,
      "outputs": []
    },
    {
      "cell_type": "code",
      "source": [
        "# Visualize the result\n",
        "plt.plot(X_test, means, '-', color='blue')\n",
        "# plt.fill_between(X_test, CI1, CI2, color='blue', alpha=0.2)"
      ],
      "metadata": {
        "colab": {
          "base_uri": "https://localhost:8080/",
          "height": 283
        },
        "id": "rzYX3TWJTdqe",
        "outputId": "d43be1c3-f7a5-4d72-f397-75a5beef7360"
      },
      "execution_count": null,
      "outputs": [
        {
          "output_type": "execute_result",
          "data": {
            "text/plain": [
              "[<matplotlib.lines.Line2D at 0x7f123c88e910>]"
            ]
          },
          "metadata": {},
          "execution_count": 22
        },
        {
          "output_type": "display_data",
          "data": {
            "text/plain": [
              "<Figure size 432x288 with 1 Axes>"
            ],
            "image/png": "[encoded data removed]"
          },
          "metadata": {
            "needs_background": "light"
          }
        }
      ]
    },
    {
      "cell_type": "code",
      "source": [
        "# Visualize the result\n",
        "plt.plot(X_test, means, '-', color='blue')\n",
        "plt.fill_between(X_test, CI1, CI2, color='blue', alpha=0.2)"
      ],
      "metadata": {
        "colab": {
          "base_uri": "https://localhost:8080/",
          "height": 283
        },
        "id": "c08BsZfypwbU",
        "outputId": "e264a67c-2dfc-4732-a2e7-bc2ad7b8026b"
      },
      "execution_count": null,
      "outputs": [
        {
          "output_type": "execute_result",
          "data": {
            "text/plain": [
              "<matplotlib.collections.PolyCollection at 0x7f123c7ce510>"
            ]
          },
          "metadata": {},
          "execution_count": 24
        },
        {
          "output_type": "display_data",
          "data": {
            "text/plain": [
              "<Figure size 432x288 with 1 Axes>"
            ],
            "image/png": "[encoded data removed]"
          },
          "metadata": {
            "needs_background": "light"
          }
        }
      ]
    },
    {
      "cell_type": "markdown",
      "source": [
        "It doesn't work...\n",
        "\n",
        "I suspect the reason is that initialization leads to some flat curve and the PQloss is actually quite satisfied with this flat curve. This is similar to the issue I met when I firsted tried SpaGCN. We probably need k means for initialization."
      ],
      "metadata": {
        "id": "h_7RYv9DcntG"
      }
    },
    {
      "cell_type": "code",
      "source": [
        "# k means\n",
        "from sklearn.cluster import KMeans\n",
        "\n",
        "k_means = KMeans(init=\"k-means++\", n_clusters=2, n_init=2)\n",
        "k_means.fit(X.reshape(-1,1))\n",
        "label_kmeans = k_means.labels_\n",
        "label_kmeans = torch.from_numpy(label_kmeans).long()\n",
        "\n",
        "plt.plot(X, label_kmeans, \".\")"
      ],
      "metadata": {
        "colab": {
          "base_uri": "https://localhost:8080/",
          "height": 283
        },
        "id": "F4FxFnaBhMqG",
        "outputId": "1a49493f-a6e5-4257-d7e0-648018e0ba7c"
      },
      "execution_count": null,
      "outputs": [
        {
          "output_type": "execute_result",
          "data": {
            "text/plain": [
              "[<matplotlib.lines.Line2D at 0x7f7dfc3505d0>]"
            ]
          },
          "metadata": {},
          "execution_count": 35
        },
        {
          "output_type": "display_data",
          "data": {
            "text/plain": [
              "<Figure size 432x288 with 1 Axes>"
            ],
            "image/png": "[encoded data removed]"
          },
          "metadata": {
            "needs_background": "light"
          }
        }
      ]
    },
    {
      "cell_type": "code",
      "source": [
        "from gpytorch.models import ExactGP\n",
        "from gpytorch.likelihoods import DirichletClassificationLikelihood\n",
        "from gpytorch.means import ConstantMean\n",
        "from gpytorch.kernels import ScaleKernel, RBFKernel"
      ],
      "metadata": {
        "id": "ng9VWkmwJkSa"
      },
      "execution_count": null,
      "outputs": []
    },
    {
      "cell_type": "code",
      "source": [
        "# We will use the simplest form of GP model, exact inference\n",
        "class DirichletGPModel(ExactGP):\n",
        "    def __init__(self, train_x, train_y, likelihood, num_classes):\n",
        "        super(DirichletGPModel, self).__init__(train_x, train_y, likelihood)\n",
        "        self.mean_module = gpytorch.means.ZeroMean(batch_shape=torch.Size((num_classes,)))\n",
        "        self.covar_module = ScaleKernel(\n",
        "            RBFKernel(batch_shape=torch.Size((num_classes,))),\n",
        "            batch_shape=torch.Size((num_classes,)),\n",
        "        )\n",
        "\n",
        "    def forward(self, x):\n",
        "        mean_x = self.mean_module(x)\n",
        "        covar_x = self.covar_module(x)\n",
        "        return gpytorch.distributions.MultivariateNormal(mean_x, covar_x)\n",
        "\n",
        "# initialize likelihood and model\n",
        "# we let the DirichletClassificationLikelihood compute the targets for us\n",
        "likelihood = DirichletClassificationLikelihood(label_kmeans, learn_additional_noise=True)\n",
        "model = DirichletGPModel(X, likelihood.transformed_targets, likelihood, num_classes=likelihood.num_classes)"
      ],
      "metadata": {
        "id": "B2KygJxRJnAz"
      },
      "execution_count": null,
      "outputs": []
    },
    {
      "cell_type": "code",
      "source": [
        "training_iter = 100\n",
        "\n",
        "# Find optimal model hyperparameters\n",
        "model.train()\n",
        "likelihood.train()\n",
        "\n",
        "# Use the adam optimizer\n",
        "optimizer = torch.optim.Adam(model.parameters(), lr=0.1)  # Includes GaussianLikelihood parameters\n",
        "\n",
        "# \"Loss\" for GPs - the marginal log likelihood\n",
        "mll = gpytorch.mlls.ExactMarginalLogLikelihood(likelihood, model)\n",
        "\n",
        "for i in range(training_iter):\n",
        "    # Zero gradients from previous iteration\n",
        "    optimizer.zero_grad()\n",
        "    # Output from model\n",
        "    output = model(X)\n",
        "    # Calc loss and backprop gradients\n",
        "    loss = -mll(output, likelihood.transformed_targets).sum()\n",
        "    loss.backward()\n",
        "    if i % 5 == 0:\n",
        "        print('Iter %d/%d - Loss: %.3f   lengthscale: %.3f   noise: %.3f' % (\n",
        "            i + 1, training_iter, loss.item(),\n",
        "            model.covar_module.base_kernel.lengthscale.mean().item(),\n",
        "            model.likelihood.second_noise_covar.noise.mean().item()\n",
        "        ))\n",
        "    optimizer.step()"
      ],
      "metadata": {
        "colab": {
          "base_uri": "https://localhost:8080/"
        },
        "id": "hjn_xxxANG-Y",
        "outputId": "569f8720-0ef8-4f40-d870-9214628d9115"
      },
      "execution_count": null,
      "outputs": [
        {
          "output_type": "stream",
          "name": "stdout",
          "text": [
            "Iter 1/100 - Loss: 3.082   lengthscale: 0.693   noise: 0.693\n",
            "Iter 6/100 - Loss: 2.895   lengthscale: 0.969   noise: 0.474\n",
            "Iter 11/100 - Loss: 2.761   lengthscale: 1.272   noise: 0.316\n",
            "Iter 16/100 - Loss: 2.669   lengthscale: 1.570   noise: 0.209\n",
            "Iter 21/100 - Loss: 2.621   lengthscale: 1.839   noise: 0.140\n",
            "Iter 26/100 - Loss: 2.542   lengthscale: 2.075   noise: 0.097\n",
            "Iter 31/100 - Loss: 2.549   lengthscale: 2.278   noise: 0.070\n",
            "Iter 36/100 - Loss: 2.537   lengthscale: 2.450   noise: 0.053\n",
            "Iter 41/100 - Loss: 2.516   lengthscale: 2.593   noise: 0.042\n",
            "Iter 46/100 - Loss: 2.501   lengthscale: 2.721   noise: 0.034\n",
            "Iter 51/100 - Loss: 2.486   lengthscale: 2.833   noise: 0.029\n",
            "Iter 56/100 - Loss: 2.472   lengthscale: 2.934   noise: 0.025\n",
            "Iter 61/100 - Loss: 2.520   lengthscale: 3.024   noise: 0.022\n",
            "Iter 66/100 - Loss: 2.488   lengthscale: 3.102   noise: 0.019\n",
            "Iter 71/100 - Loss: 2.483   lengthscale: 3.171   noise: 0.018\n",
            "Iter 76/100 - Loss: 2.482   lengthscale: 3.234   noise: 0.016\n",
            "Iter 81/100 - Loss: 2.492   lengthscale: 3.301   noise: 0.015\n",
            "Iter 86/100 - Loss: 2.470   lengthscale: 3.359   noise: 0.014\n",
            "Iter 91/100 - Loss: 2.485   lengthscale: 3.410   noise: 0.013\n",
            "Iter 96/100 - Loss: 2.469   lengthscale: 3.461   noise: 0.012\n"
          ]
        }
      ]
    },
    {
      "cell_type": "code",
      "source": [
        "print(model.covar_module.base_kernel.lengthscale)\n",
        "print(model.covar_module.outputscale)\n",
        "print(model.covar_module.base_kernel.lengthscale[0].item())"
      ],
      "metadata": {
        "colab": {
          "base_uri": "https://localhost:8080/"
        },
        "id": "-ZE5p4HPNJBa",
        "outputId": "d8645803-680a-45ed-e7cf-0eff225afb96"
      },
      "execution_count": null,
      "outputs": [
        {
          "output_type": "stream",
          "name": "stdout",
          "text": [
            "tensor([[[3.5208]],\n",
            "\n",
            "        [[3.4811]]], grad_fn=<SoftplusBackward0>)\n",
            "tensor([3.5451, 3.5532], grad_fn=<SoftplusBackward0>)\n",
            "3.52077317237854\n"
          ]
        }
      ]
    },
    {
      "cell_type": "code",
      "source": [
        "X_test = torch.Tensor(np.arange(-5, 15, 0.1))\n",
        "\n",
        "model.eval()\n",
        "likelihood.eval()\n",
        "\n",
        "with gpytorch.settings.fast_pred_var(), torch.no_grad():\n",
        "    test_dist = model(X_test)\n",
        "    pred_means = test_dist.loc"
      ],
      "metadata": {
        "id": "5R5rq3p0OCSX"
      },
      "execution_count": null,
      "outputs": []
    },
    {
      "cell_type": "code",
      "source": [
        "plt.plot(X_test, pred_means[0], '-', color='blue')"
      ],
      "metadata": {
        "colab": {
          "base_uri": "https://localhost:8080/",
          "height": 283
        },
        "id": "LTjpT-NkOv2L",
        "outputId": "b1a02396-f8ca-433f-9d4d-20c3302df31e"
      },
      "execution_count": null,
      "outputs": [
        {
          "output_type": "execute_result",
          "data": {
            "text/plain": [
              "[<matplotlib.lines.Line2D at 0x7f7dfc291810>]"
            ]
          },
          "metadata": {},
          "execution_count": 41
        },
        {
          "output_type": "display_data",
          "data": {
            "text/plain": [
              "<Figure size 432x288 with 1 Axes>"
            ],
            "image/png": "[encoded data removed]"
          },
          "metadata": {
            "needs_background": "light"
          }
        }
      ]
    },
    {
      "cell_type": "code",
      "source": [
        "lengthscale_prior = model.covar_module.base_kernel.lengthscale[0].item()\n",
        "outputscale_prior = model.covar_module.outputscale[0].item()\n",
        "\n",
        "with gpytorch.settings.fast_pred_var(), torch.no_grad():\n",
        "  y_dist = model(X)\n",
        "  pred_means = y_dist.loc\n",
        "mu_prior = torch.Tensor([pred_means[0][label_kmeans == 0].mean().item(), pred_means[0][label_kmeans == 1].mean().item()])\n",
        "print(lengthscale_prior)\n",
        "print(outputscale_prior)\n",
        "print(mu_prior)"
      ],
      "metadata": {
        "colab": {
          "base_uri": "https://localhost:8080/"
        },
        "id": "6J0SWPOBPxta",
        "outputId": "15433735-44f3-4507-9d5b-02ebbc2c33d7"
      },
      "execution_count": null,
      "outputs": [
        {
          "output_type": "stream",
          "name": "stdout",
          "text": [
            "3.52077317237854\n",
            "3.545067548751831\n",
            "tensor([-0.3518, -6.9107])\n"
          ]
        },
        {
          "output_type": "stream",
          "name": "stderr",
          "text": [
            "/usr/local/lib/python3.7/dist-packages/gpytorch/models/exact_gp.py:275: GPInputWarning: The input matches the stored training data. Did you forget to call model.train()?\n",
            "  GPInputWarning,\n"
          ]
        }
      ]
    },
    {
      "cell_type": "code",
      "source": [
        "from gpytorch.module import Module\n",
        "\n",
        "class LogLoss(Module):\n",
        "    def __init__(self, model):\n",
        "        super(LogLoss, self).__init__()\n",
        "        self.model = model\n",
        "\n",
        "    def forward(self, output, **kwargs):\n",
        "        raise NotImplementedError"
      ],
      "metadata": {
        "id": "FxOEZeu8TbcR"
      },
      "execution_count": null,
      "outputs": []
    },
    {
      "cell_type": "code",
      "source": [
        "from abc import ABC, abstractmethod\n",
        "\n",
        "import torch\n",
        "\n",
        "\n",
        "class _Approximate_loss(LogLoss, ABC):\n",
        "    # changes here\n",
        "    def __init__(self, model, num_data, beta=1.0, combine_terms=True):\n",
        "        super().__init__(model)\n",
        "        self.combine_terms = combine_terms\n",
        "        self.num_data = num_data\n",
        "        self.beta = beta\n",
        "\n",
        "    @abstractmethod\n",
        "    def _log_likelihood_term(self, approximate_dist_f, **kwargs):\n",
        "        raise NotImplementedError\n",
        "\n",
        "    # changes here, no target\n",
        "    def forward(self, approximate_dist_f, **kwargs):\n",
        "        # Get likelihood term and KL term\n",
        "        num_batch = approximate_dist_f.event_shape[0]\n",
        "        log_likelihood = self._log_likelihood_term(approximate_dist_f, **kwargs).div(num_batch)\n",
        "        kl_divergence = self.model.variational_strategy.kl_divergence().div(self.num_data / self.beta)\n",
        "\n",
        "        # Add any additional registered loss terms\n",
        "        added_loss = torch.zeros_like(log_likelihood)\n",
        "        had_added_losses = False\n",
        "        for added_loss_term in self.model.added_loss_terms():\n",
        "            added_loss.add_(added_loss_term.loss())\n",
        "            had_added_losses = True\n",
        "\n",
        "        # Log prior term\n",
        "        log_prior = torch.zeros_like(log_likelihood)\n",
        "        for name, module, prior, closure, _ in self.named_priors():\n",
        "            log_prior.add_(prior.log_prob(closure(module)).sum().div(self.num_data))\n",
        "\n",
        "        if self.combine_terms:\n",
        "            return log_likelihood - kl_divergence + log_prior - added_loss\n",
        "        else:\n",
        "            if had_added_losses:\n",
        "                return log_likelihood, kl_divergence, log_prior, added_loss\n",
        "            else:\n",
        "                return log_likelihood, kl_divergence, log_prior"
      ],
      "metadata": {
        "id": "czVPTNn1Tji_"
      },
      "execution_count": null,
      "outputs": []
    },
    {
      "cell_type": "code",
      "source": [
        "# Fix mu and alpha for now\n",
        "mu = mu_prior\n",
        "alpha = 0.2"
      ],
      "metadata": {
        "id": "pDsIpMDmTji_"
      },
      "execution_count": null,
      "outputs": []
    },
    {
      "cell_type": "code",
      "source": [
        "# q function\n",
        "def q_fun(h_samples, mu, alpha):\n",
        "  q = 1.0 / ((1.0 + (h_samples.unsqueeze(2) - mu)**2 / alpha) + 1e-8)\n",
        "  q = q**(alpha+1.0)/2.0\n",
        "  q = q / torch.sum(q, dim=2, keepdim=True)\n",
        "  return q"
      ],
      "metadata": {
        "id": "NaOeRnHXczbz"
      },
      "execution_count": null,
      "outputs": []
    },
    {
      "cell_type": "code",
      "source": [
        "# p function\n",
        "def p_fun(q):\n",
        "    p = q**2 / torch.sum(q, dim=1)\n",
        "    p = p / torch.sum(p, dim=2, keepdim=True)\n",
        "    return p"
      ],
      "metadata": {
        "id": "IKE7GOhzczbz"
      },
      "execution_count": null,
      "outputs": []
    },
    {
      "cell_type": "code",
      "source": [
        "def loss_function(p, q):\n",
        "    loss = torch.mean(torch.sum(p*torch.log(p/(q+1e-6)), dim=2), dim = 1) \n",
        "    return loss"
      ],
      "metadata": {
        "id": "jesPWd63czbz"
      },
      "execution_count": null,
      "outputs": []
    },
    {
      "cell_type": "code",
      "source": [
        "# define the loss function\n",
        "def expected_log_loss(function_dist, *args, sample_shape=None, **kwargs):\n",
        "  sample_shape = torch.Size([1000])\n",
        "  function_samples = function_dist.rsample(sample_shape)\n",
        "  q = q_fun(function_samples, mu, alpha)\n",
        "  p = p_fun(q)\n",
        "  loss_samples = loss_function(p, q)\n",
        "  log_loss_samples = torch.log(loss_samples)\n",
        "  return log_loss_samples.mean(dim=0) "
      ],
      "metadata": {
        "id": "loMyHX73TjjA"
      },
      "execution_count": null,
      "outputs": []
    },
    {
      "cell_type": "code",
      "source": [
        "class VariationalELBO_loss(_Approximate_loss):\n",
        "    def _log_likelihood_term(self, variational_dist_f, **kwargs):\n",
        "        return expected_log_loss(variational_dist_f, **kwargs).sum(-1)\n",
        "\n",
        "    def forward(self, variational_dist_f, **kwargs):\n",
        "        return super().forward(variational_dist_f, **kwargs)"
      ],
      "metadata": {
        "id": "kf3oiGAQTjjA"
      },
      "execution_count": null,
      "outputs": []
    },
    {
      "cell_type": "code",
      "source": [
        "from gpytorch.models import ApproximateGP\n",
        "from gpytorch.variational import CholeskyVariationalDistribution\n",
        "from gpytorch.variational import VariationalStrategy\n",
        "\n",
        "class GPModel(ApproximateGP):\n",
        "    def __init__(self, inducing_points):\n",
        "        variational_distribution = CholeskyVariationalDistribution(inducing_points.size(0))\n",
        "        variational_strategy = VariationalStrategy(self, inducing_points, variational_distribution, learn_inducing_locations=False)\n",
        "        super(GPModel, self).__init__(variational_strategy)\n",
        "        self.mean_module = gpytorch.means.ZeroMean()\n",
        "        self.covar_module = gpytorch.kernels.ScaleKernel(gpytorch.kernels.RBFKernel())\n",
        "\n",
        "        # lengthscale_prior = gpytorch.priors.GammaPrior(100.0, 1.0)\n",
        "        # outputscale_prior = gpytorch.priors.GammaPrior(50.0, 2)\n",
        "\n",
        "        # self.covar_module = gpytorch.kernels.ScaleKernel(\n",
        "        #     gpytorch.kernels.RBFKernel(\n",
        "        #         lengthscale_prior=lengthscale_prior,\n",
        "        #     ),\n",
        "        #     outputscale_prior=outputscale_prior\n",
        "        # )\n",
        "\n",
        "        # Initialize lengthscale and outputscale to mean of priors\n",
        "        self.covar_module.base_kernel.lengthscale = lengthscale_prior\n",
        "        self.covar_module.outputscale = outputscale_prior\n",
        "\n",
        "\n",
        "    def forward(self, x):\n",
        "        mean_x = self.mean_module(x)\n",
        "        covar_x = self.covar_module(x)\n",
        "        return gpytorch.distributions.MultivariateNormal(mean_x, covar_x)\n",
        "\n",
        "inducing_points = X#[torch.randint(0, n, (int(n/2),))]\n",
        "model = GPModel(inducing_points=inducing_points)"
      ],
      "metadata": {
        "id": "Zx3a6G1VTjjA"
      },
      "execution_count": null,
      "outputs": []
    },
    {
      "cell_type": "code",
      "source": [
        "X_test = torch.Tensor(np.arange(-5, 15, 0.1))\n",
        "model.eval()\n",
        "with torch.no_grad():\n",
        "    preds = model(X_test)\n",
        "    means = preds.loc\n",
        "    CI1, CI2 = preds.confidence_region()"
      ],
      "metadata": {
        "id": "0e7PgEbqVKwY"
      },
      "execution_count": null,
      "outputs": []
    },
    {
      "cell_type": "code",
      "source": [
        "# Visualize the result\n",
        "plt.plot(X_test, means, '-', color='blue')"
      ],
      "metadata": {
        "colab": {
          "base_uri": "https://localhost:8080/",
          "height": 284
        },
        "id": "bvfCSw5FVMtN",
        "outputId": "03239ce3-a365-4481-a1aa-ac427befa2b7"
      },
      "execution_count": null,
      "outputs": [
        {
          "output_type": "execute_result",
          "data": {
            "text/plain": [
              "[<matplotlib.lines.Line2D at 0x7f7dfc1b6390>]"
            ]
          },
          "metadata": {},
          "execution_count": 55
        },
        {
          "output_type": "display_data",
          "data": {
            "text/plain": [
              "<Figure size 432x288 with 1 Axes>"
            ],
            "image/png": "[encoded data removed]"
          },
          "metadata": {
            "needs_background": "light"
          }
        }
      ]
    },
    {
      "cell_type": "code",
      "source": [
        "model.covar_module.base_kernel.lengthscale"
      ],
      "metadata": {
        "colab": {
          "base_uri": "https://localhost:8080/"
        },
        "id": "oa8Aoh8IXpCi",
        "outputId": "a1ceb6d2-5bd7-4634-a5c6-7966247415ab"
      },
      "execution_count": null,
      "outputs": [
        {
          "output_type": "execute_result",
          "data": {
            "text/plain": [
              "tensor([[3.5208]], grad_fn=<SoftplusBackward0>)"
            ]
          },
          "metadata": {},
          "execution_count": 56
        }
      ]
    },
    {
      "cell_type": "code",
      "source": [
        "num_epochs = 100\n",
        "\n",
        "model.train()\n",
        "\n",
        "optimizer = torch.optim.Adam(model.parameters(), lr=0.01)\n",
        "\n",
        "# Our loss object. We're using the VariationalELBO\n",
        "mll = VariationalELBO_loss(model, num_data=X.size(0))\n",
        "\n",
        "tol = 1e-7\n",
        "for i in range(num_epochs):\n",
        "  optimizer.zero_grad()\n",
        "  output = model(X)\n",
        "  with torch.no_grad():\n",
        "    if i > 0:\n",
        "      loss_old = loss\n",
        "  loss = -mll(output)\n",
        "  loss.backward()\n",
        "  optimizer.step()\n",
        "\n",
        "  if i % 20 == 0:\n",
        "    print('In epoch {}, loss: {:.4f}'.format(i, loss))\n",
        "  \n",
        "  if i > 0:\n",
        "    if abs((loss_old - loss)/loss_old) < tol:\n",
        "      print('Converge!')\n",
        "      break"
      ],
      "metadata": {
        "colab": {
          "base_uri": "https://localhost:8080/"
        },
        "outputId": "d6632c13-80b3-4ed1-cb0e-346ab5b8d6b7",
        "id": "zrD8PMoiTjjB"
      },
      "execution_count": null,
      "outputs": [
        {
          "output_type": "stream",
          "name": "stdout",
          "text": [
            "In epoch 0, loss: 0.0031\n",
            "In epoch 20, loss: 0.0036\n",
            "In epoch 40, loss: 0.0031\n",
            "In epoch 60, loss: 0.0030\n",
            "In epoch 80, loss: 0.0030\n"
          ]
        }
      ]
    },
    {
      "cell_type": "code",
      "source": [
        "X_test = torch.Tensor(np.arange(-5, 15, 0.1))\n",
        "model.eval()\n",
        "with torch.no_grad():\n",
        "    preds = model(X_test)\n",
        "    means = preds.mean\n",
        "    CI1, CI2 = preds.confidence_region()"
      ],
      "metadata": {
        "id": "8rCyFSuZTjjB"
      },
      "execution_count": null,
      "outputs": []
    },
    {
      "cell_type": "code",
      "source": [
        "# Visualize the result\n",
        "plt.plot(X_test, means, '-', color='blue')\n",
        "# plt.fill_between(X_test, CI1, CI2, color='blue', alpha=0.2)"
      ],
      "metadata": {
        "colab": {
          "base_uri": "https://localhost:8080/",
          "height": 283
        },
        "outputId": "73dfb51e-c79a-4b97-fb18-f15bab3b71c9",
        "id": "9NWqaShJTjjB"
      },
      "execution_count": null,
      "outputs": [
        {
          "output_type": "execute_result",
          "data": {
            "text/plain": [
              "[<matplotlib.lines.Line2D at 0x7f7dfc041710>]"
            ]
          },
          "metadata": {},
          "execution_count": 63
        },
        {
          "output_type": "display_data",
          "data": {
            "text/plain": [
              "<Figure size 432x288 with 1 Axes>"
            ],
            "image/png": "[encoded data removed]"
          },
          "metadata": {
            "needs_background": "light"
          }
        }
      ]
    },
    {
      "cell_type": "code",
      "source": [
        "# Visualize the result\n",
        "plt.plot(X_test, means, '-', color='blue')\n",
        "plt.fill_between(X_test, CI1, CI2, color='blue', alpha=0.2)"
      ],
      "metadata": {
        "colab": {
          "base_uri": "https://localhost:8080/",
          "height": 283
        },
        "outputId": "af2708a7-5dc2-4119-bf5d-2328aad407a2",
        "id": "uChgXJi9TjjB"
      },
      "execution_count": null,
      "outputs": [
        {
          "output_type": "execute_result",
          "data": {
            "text/plain": [
              "<matplotlib.collections.PolyCollection at 0x7f7dfbfb8890>"
            ]
          },
          "metadata": {},
          "execution_count": 64
        },
        {
          "output_type": "display_data",
          "data": {
            "text/plain": [
              "<Figure size 432x288 with 1 Axes>"
            ],
            "image/png": "[encoded data removed]"
          },
          "metadata": {
            "needs_background": "light"
          }
        }
      ]
    }
  ]
}